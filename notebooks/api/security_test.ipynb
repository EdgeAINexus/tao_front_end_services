{
 "cells": [
  {
   "cell_type": "code",
   "execution_count": null,
   "metadata": {
    "scrolled": true
   },
   "outputs": [],
   "source": [
    "import json\n",
    "import requests\n",
    "import subprocess"
   ]
  },
  {
   "cell_type": "markdown",
   "metadata": {},
   "source": [
    "### Login security checks <a class=\"anchor\" id=\"head-1.2\"></a>"
   ]
  },
  {
   "cell_type": "code",
   "execution_count": null,
   "metadata": {},
   "outputs": [],
   "source": [
    "output = subprocess.getoutput(\"curl -X POST http://sqa-tao.metropolis.nvidia.com:32080/api/v1/login -d '{\\\"ngc_api_key\\\": \\\"1\\\"}'\")\n",
    "print(output)\n",
    "# curl: (28) Failed to connect to sqa-tao.metropolis.nvidia.com port 32080: Connection timed out"
   ]
  },
  {
   "cell_type": "code",
   "execution_count": null,
   "metadata": {},
   "outputs": [],
   "source": [
    "output = subprocess.getoutput(\"curl -X POST http://sqa-tao.metropolis.nvidia.com:32443/api/v1/login -d '{\\\"ngc_api_key\\\": \\\"1\\\"}'\")\n",
    "print(output)\n",
    "# 302 Found HTML body"
   ]
  },
  {
   "cell_type": "code",
   "execution_count": null,
   "metadata": {},
   "outputs": [],
   "source": [
    "output = subprocess.getoutput(\"curl -X POST https://sqa-tao.metropolis.nvidia.com:32443/api/v1/login -d '{\\\"ngc_api_key\\\": \\\"1\\\"}'\")\n",
    "print(output)\n",
    "# Empty json"
   ]
  },
  {
   "cell_type": "code",
   "execution_count": null,
   "metadata": {},
   "outputs": [],
   "source": [
    "output = subprocess.getoutput(\"curl -X POST https://35.86.158.141:32443/api/v1/login -d '{\\\"ngc_api_key\\\": \\\"1\\\"}'\")\n",
    "print(output)\n",
    "# SSL certificate problem"
   ]
  },
  {
   "cell_type": "markdown",
   "metadata": {},
   "source": [
    "### FIXME\n",
    "\n",
    "1. Assign the ip_address and port_number for user 1 in FIXME 1 ([info](https://docs.nvidia.com/tao/tao-toolkit/text/tao_toolkit_api/api_rest_api.html))\n",
    "1. Assign the ngc_api_key variable for user 1 in FIXME 2\n",
    "1. Assign the ngc_api_key variable for user 2 in FIXME 3"
   ]
  },
  {
   "cell_type": "code",
   "execution_count": null,
   "metadata": {
    "scrolled": true
   },
   "outputs": [],
   "source": [
    "host_url = \"http://<ip_address>:<port_number>\" # FIXME1 example: https://10.137.149.22:32334\n",
    "# In host machine, node ip_address and port number can be obtained as follows,\n",
    "# ip_address: hostname -i\n",
    "# port_number: kubectl get service ingress-nginx-controller -o jsonpath='{.spec.ports[0].nodePort}'\n",
    "ngc_api_key_user_1 = \"<ngc_api_key_1>\" # FIXME2 example: (Add NGC API key)\n",
    "ngc_api_key_user_2 = \"<ngc_api_key_2>\" # FIXME3 example: (Add NGC API key)"
   ]
  },
  {
   "cell_type": "markdown",
   "metadata": {},
   "source": [
    "### Login for user_1 <a class=\"anchor\" id=\"head-1.2\"></a>"
   ]
  },
  {
   "cell_type": "code",
   "execution_count": null,
   "metadata": {
    "scrolled": true
   },
   "outputs": [],
   "source": [
    "# Exchange NGC_API_KEY for JWT\n",
    "data = json.dumps({\"ngc_api_key\": ngc_api_key_user_1})\n",
    "response = requests.post(f\"{host_url}/api/v1/login\", data=data)\n",
    "assert response.status_code in (200, 201)\n",
    "assert \"user_id\" in response.json().keys()\n",
    "user_id_user_1 = response.json()[\"user_id\"]\n",
    "print(\"User ID\",user_id_user_1)\n",
    "assert \"token\" in response.json().keys()\n",
    "token_user_1 = response.json()[\"token\"]\n",
    "print(\"JWT\",token_user_1)\n",
    "\n",
    "# Set base URL\n",
    "base_url_user_1 = f\"{host_url}/api/v1/user/{user_id_user_1}\"\n",
    "print(\"API Calls will be forwarded to\",base_url_user_1)\n",
    "\n",
    "headers_user_1 = {\"Authorization\": f\"Bearer {token_user_1}\"}"
   ]
  },
  {
   "cell_type": "markdown",
   "metadata": {},
   "source": [
    "### Create dataset for user_1 <a class=\"anchor\" id=\"head-1.2\"></a>"
   ]
  },
  {
   "cell_type": "code",
   "execution_count": null,
   "metadata": {
    "scrolled": true
   },
   "outputs": [],
   "source": [
    "# Create dataset\n",
    "data = json.dumps({\"type\":\"semantic_segmentation\",\"format\":\"unet\"})\n",
    "\n",
    "endpoint = f\"{base_url_user_1}/dataset\"\n",
    "\n",
    "response = requests.post(endpoint,data=data,headers=headers_user_1)\n",
    "assert response.status_code in (200, 201)\n",
    "\n",
    "print(response)\n",
    "print(response.json())\n",
    "\n",
    "assert \"id\" in response.json().keys()\n",
    "dataset_id_user_1 = response.json()[\"id\"]"
   ]
  },
  {
   "cell_type": "markdown",
   "metadata": {},
   "source": [
    "### Create model for user_1 <a class=\"anchor\" id=\"head-4\"></a>"
   ]
  },
  {
   "cell_type": "code",
   "execution_count": null,
   "metadata": {
    "scrolled": true
   },
   "outputs": [],
   "source": [
    "data = json.dumps({\"network_arch\":\"unet\",\"encryption_key\":\"tlt_encode\",\"checkpoint_choose_method\":\"best_model\"})\n",
    "\n",
    "endpoint = f\"{base_url_user_1}/model\"\n",
    "\n",
    "response = requests.post(endpoint,data=data,headers=headers_user_1)\n",
    "assert response.status_code in (200, 201)\n",
    "\n",
    "print(response)\n",
    "print(response.json())\n",
    "assert \"id\" in response.json().keys()\n",
    "model_id_user_1 = response.json()[\"id\"]"
   ]
  },
  {
   "cell_type": "markdown",
   "metadata": {},
   "source": [
    "### Login for user_2 <a class=\"anchor\" id=\"head-1.2\"></a>"
   ]
  },
  {
   "cell_type": "code",
   "execution_count": null,
   "metadata": {},
   "outputs": [],
   "source": [
    "# Exchange NGC_API_KEY for JWT\n",
    "data = json.dumps({\"ngc_api_key\": ngc_api_key_user_2})\n",
    "response = requests.post(f\"{host_url}/api/v1/login\", data=data)\n",
    "print(response)\n",
    "assert response.status_code in (200, 201)\n",
    "assert \"user_id\" in response.json().keys()\n",
    "user_id_user_2 = response.json()[\"user_id\"]\n",
    "print(\"User ID\",user_id_user_2)\n",
    "assert \"token\" in response.json().keys()\n",
    "token_user_2 = response.json()[\"token\"]\n",
    "print(\"JWT\",token_user_2)\n",
    "\n",
    "# Set base URL\n",
    "base_url_user_2 = f\"{host_url}/api/v1/user/{user_id_user_2}\"\n",
    "print(\"API Calls will be forwarded to\",base_url_user_2)\n",
    "\n",
    "headers_user_2 = {\"Authorization\": f\"Bearer {token_user_2}\"}"
   ]
  },
  {
   "cell_type": "markdown",
   "metadata": {},
   "source": [
    "### Create dataset for user_2 <a class=\"anchor\" id=\"head-1.2\"></a>"
   ]
  },
  {
   "cell_type": "code",
   "execution_count": null,
   "metadata": {},
   "outputs": [],
   "source": [
    "# Create dataset\n",
    "data = json.dumps({\"type\":\"instance_segmentation\",\"format\":\"coco\"})\n",
    "\n",
    "endpoint = f\"{base_url_user_2}/dataset\"\n",
    "\n",
    "response = requests.post(endpoint,data=data,headers=headers_user_2)\n",
    "assert response.status_code in (200, 201)\n",
    "\n",
    "print(response)\n",
    "print(response.json())\n",
    "\n",
    "assert \"id\" in response.json().keys()\n",
    "dataset_id_user_2 = response.json()[\"id\"]"
   ]
  },
  {
   "cell_type": "markdown",
   "metadata": {},
   "source": [
    "### Create model for user_2 <a class=\"anchor\" id=\"head-4\"></a>"
   ]
  },
  {
   "cell_type": "code",
   "execution_count": null,
   "metadata": {},
   "outputs": [],
   "source": [
    "data = json.dumps({\"network_arch\":\"mask_rcnn\",\"encryption_key\":\"tlt_encode\",\"checkpoint_choose_method\":\"best_model\"})\n",
    "\n",
    "endpoint = f\"{base_url_user_2}/model\"\n",
    "\n",
    "response = requests.post(endpoint,data=data,headers=headers_user_2)\n",
    "assert response.status_code in (200, 201)\n",
    "\n",
    "print(response)\n",
    "print(response.json())\n",
    "assert \"id\" in response.json().keys()\n",
    "model_id_user_2 = response.json()[\"id\"]"
   ]
  },
  {
   "cell_type": "markdown",
   "metadata": {},
   "source": [
    "### Dataset access security checks <a class=\"anchor\" id=\"head-4\"></a>"
   ]
  },
  {
   "cell_type": "markdown",
   "metadata": {},
   "source": [
    "#### UC - 5 <a class=\"anchor\" id=\"head-4\"></a>"
   ]
  },
  {
   "cell_type": "code",
   "execution_count": null,
   "metadata": {},
   "outputs": [],
   "source": [
    "output = subprocess.getoutput(f'curl -H \"Authorization: Bearer {token_user_1}\" https://sqa-tao.metropolis.nvidia.com:32443/api/v1/user/{user_id_user_1}/dataset/{dataset_id_user_2}')\n",
    "print(output)\n",
    "# should return: Dataset not found"
   ]
  },
  {
   "cell_type": "code",
   "execution_count": null,
   "metadata": {},
   "outputs": [],
   "source": [
    "output = subprocess.getoutput(f'curl -H \"Authorization: Bearer {token_user_2}\" https://sqa-tao.metropolis.nvidia.com:32443/api/v1/user/{user_id_user_2}/dataset/{dataset_id_user_1}')\n",
    "print(output)\n",
    "# should return: Dataset not found"
   ]
  },
  {
   "cell_type": "code",
   "execution_count": null,
   "metadata": {},
   "outputs": [],
   "source": [
    "output = subprocess.getoutput(f'curl -H \"Authorization: Bearer {token_user_1}\" https://sqa-tao.metropolis.nvidia.com:32443/api/v1/user/{user_id_user_1}/dataset/{dataset_id_user_1}')\n",
    "print(output)\n",
    "# Returns dataset metadata (format:unet, type:semantic segmentation)"
   ]
  },
  {
   "cell_type": "code",
   "execution_count": null,
   "metadata": {},
   "outputs": [],
   "source": [
    "output = subprocess.getoutput(f'curl -H \"Authorization: Bearer {token_user_2}\" https://sqa-tao.metropolis.nvidia.com:32443/api/v1/user/{user_id_user_2}/dataset/{dataset_id_user_2}')\n",
    "print(output)\n",
    "# Returns dataset metadata (format:coco, type:instance segmentation)"
   ]
  },
  {
   "cell_type": "markdown",
   "metadata": {},
   "source": [
    "### UC - 6 <a class=\"anchor\" id=\"head-4\"></a>"
   ]
  },
  {
   "cell_type": "code",
   "execution_count": null,
   "metadata": {},
   "outputs": [],
   "source": [
    "output = subprocess.getoutput(f\"curl https://sqa-tao.metropolis.nvidia.com:32443/api/v1/user/{user_id_user_1}/dataset/{dataset_id_user_1}\")\n",
    "print(output)\n",
    "# Returns authorization required HTML body"
   ]
  },
  {
   "cell_type": "code",
   "execution_count": null,
   "metadata": {},
   "outputs": [],
   "source": [
    "output = subprocess.getoutput(f'curl -H \"Authorization: Bearer {token_user_1}\" https://sqa-tao.metropolis.nvidia.com:32443/api/v1/user/{user_id_user_2}/dataset/{dataset_id_user_2}')\n",
    "print(output)\n",
    "# Returns Forbidden HTML body"
   ]
  },
  {
   "cell_type": "code",
   "execution_count": null,
   "metadata": {},
   "outputs": [],
   "source": [
    "output = subprocess.getoutput(f'curl -H \"Authorization: Bearer {token_user_2}\" https://sqa-tao.metropolis.nvidia.com:32443/api/v1/user/{user_id_user_1}/dataset/{dataset_id_user_1}')\n",
    "print(output)\n",
    "# Returns Forbidden HTML body"
   ]
  },
  {
   "cell_type": "code",
   "execution_count": null,
   "metadata": {},
   "outputs": [],
   "source": [
    "output = subprocess.getoutput(f'curl -H \"Authorization: Bearer {token_user_2}\" https://sqa-tao.metropolis.nvidia.com:32443/api/v1/user/{user_id_user_2}/dataset/{dataset_id_user_2}')\n",
    "print(output)\n",
    "# Returns dataset metadata (format:coco, type:instance segmentation)"
   ]
  },
  {
   "cell_type": "markdown",
   "metadata": {},
   "source": [
    "#### UC - 7 <a class=\"anchor\" id=\"head-4\"></a>"
   ]
  },
  {
   "cell_type": "code",
   "execution_count": null,
   "metadata": {},
   "outputs": [],
   "source": [
    "output = subprocess.getoutput(\"curl -X POST http://sqa-tao.metropolis.nvidia.com:32080/api/v1/login -d '{\\\"ngc_api_key\\\": \\\"anyRandomString\\\"}\")\n",
    "print(output)\n",
    "# curl: (28) Failed to connect to sqa-tao.metropolis.nvidia.com port 32080: Connection timed out"
   ]
  },
  {
   "cell_type": "code",
   "execution_count": null,
   "metadata": {},
   "outputs": [],
   "source": [
    "output = subprocess.getoutput(\"curl -X POST http://sqa-tao.metropolis.nvidia.com:32080/api/v1/login -d '{\\\"ngc_api_key\\\": \\\"YzZtczM5amdtdDcwNjk0cnA2bGU2bXQ3bnQ6NmQ4NjNhMDItMTdmZS00Y2QxLWI2ZjktNmE5M2YxZTc0OGMv\\\"}\")\n",
    "print(output)\n",
    "# curl: (28) Failed to connect to sqa-tao.metropolis.nvidia.com port 32080: Connection timed out"
   ]
  },
  {
   "cell_type": "code",
   "execution_count": null,
   "metadata": {},
   "outputs": [],
   "source": [
    "output = subprocess.getoutput(f\"curl -X POST http://sqa-tao.metropolis.nvidia.com:32080/api/v1/login -d '{\\\"ngc_api_key\\\": \\\"{ngc_api_key_user_1}\\\"}'\")\n",
    "print(output)"
   ]
  },
  {
   "cell_type": "markdown",
   "metadata": {},
   "source": [
    "#### UC - 8 <a class=\"anchor\" id=\"head-4\"></a>"
   ]
  },
  {
   "cell_type": "code",
   "execution_count": null,
   "metadata": {},
   "outputs": [],
   "source": [
    "output = subprocess.getoutput(f\"curl -X POST http://sqa-tao.metropolis.nvidia.com:32080/api/v1/login -d '{\\\"ngc_api_key\\\": \\\"{ngc_api_key_user_1}\\\"}\")\n",
    "print(output)"
   ]
  },
  {
   "cell_type": "code",
   "execution_count": null,
   "metadata": {},
   "outputs": [],
   "source": [
    "output = subprocess.getoutput(f'curl -H \"Authorization: Bearer {token_user_2}\" https://sqa-tao.metropolis.nvidia.com:32443/api/v1/user/{user_id_user_2}/dataset/{dataset_id_user_2}')\n",
    "print(output)\n",
    "# should return dataset dataset_id_user_2 metadata\n",
    "# ask admin to check app pod logs, authentication was checked against cached user session"
   ]
  },
  {
   "cell_type": "code",
   "execution_count": null,
   "metadata": {},
   "outputs": [],
   "source": [
    "# wait over 2 hours with no activity for user user_id_user_2\n",
    "output = subprocess.getoutput(f'curl -H \"Authorization: Bearer {token_user_2}\" https://sqa-tao.metropolis.nvidia.com:32443/api/v1/user/{user_id_user_2}/dataset/{dataset_id_user_2}')\n",
    "print(output)\n",
    "# should return dataset dataset_id_user_2 metadata\n",
    "# ask admin to check app pod logs, authentication was checked against cached user session, failed, then authenticated the user again against NVIDIA servers"
   ]
  },
  {
   "cell_type": "markdown",
   "metadata": {},
   "source": [
    "#### UC - 9 <a class=\"anchor\" id=\"head-4\"></a>"
   ]
  },
  {
   "cell_type": "code",
   "execution_count": null,
   "metadata": {},
   "outputs": [],
   "source": [
    "output = subprocess.getoutput(f'curl -H \"Authorization: Bearer {token_user_2}\" https://sqa-tao.metropolis.nvidia.com:32443/api/v1/user/{user_id_user_2}/dataset/{dataset_id_user_2}')\n",
    "print(output)\n",
    "# should return dataset dataset_id_user_2 metadata\n",
    "# ask admin to check app pod logs, authentication was checked against cached user session\n",
    "# repeat the above a few times within 2 hours"
   ]
  },
  {
   "cell_type": "markdown",
   "metadata": {},
   "source": [
    "### Model access security checks <a class=\"anchor\" id=\"head-4\"></a>"
   ]
  },
  {
   "cell_type": "markdown",
   "metadata": {},
   "source": [
    "#### UC - 5 <a class=\"anchor\" id=\"head-4\"></a>"
   ]
  },
  {
   "cell_type": "code",
   "execution_count": null,
   "metadata": {},
   "outputs": [],
   "source": [
    "output = subprocess.getoutput(f'curl -H \"Authorization: Bearer {token_user_1}\" https://sqa-tao.metropolis.nvidia.com:32443/api/v1/user/{user_id_user_1}/model/{model_id_user_2}')\n",
    "print(output)\n",
    "# should return: Model not found"
   ]
  },
  {
   "cell_type": "code",
   "execution_count": null,
   "metadata": {},
   "outputs": [],
   "source": [
    "output = subprocess.getoutput(f'curl -H \"Authorization: Bearer {token_user_2}\" https://sqa-tao.metropolis.nvidia.com:32443/api/v1/user/{user_id_user_2}/model/{model_id_user_1}')\n",
    "print(output)\n",
    "# should return: Model not found"
   ]
  },
  {
   "cell_type": "code",
   "execution_count": null,
   "metadata": {},
   "outputs": [],
   "source": [
    "output = subprocess.getoutput(f'curl -H \"Authorization: Bearer {token_user_1}\" https://sqa-tao.metropolis.nvidia.com:32443/api/v1/user/{user_id_user_1}/model/{model_id_user_1}')\n",
    "print(output)\n",
    "# Returns model metadata (network_arch:unet)"
   ]
  },
  {
   "cell_type": "code",
   "execution_count": null,
   "metadata": {},
   "outputs": [],
   "source": [
    "output = subprocess.getoutput(f'curl -H \"Authorization: Bearer {token_user_2}\" https://sqa-tao.metropolis.nvidia.com:32443/api/v1/user/{user_id_user_2}/model/{model_id_user_2}')\n",
    "print(output)\n",
    "# Returns dataset metadata (network_arch:mask_rcnn)"
   ]
  },
  {
   "cell_type": "markdown",
   "metadata": {},
   "source": [
    "### UC - 6 <a class=\"anchor\" id=\"head-4\"></a>"
   ]
  },
  {
   "cell_type": "code",
   "execution_count": null,
   "metadata": {},
   "outputs": [],
   "source": [
    "output = subprocess.getoutput(f\"curl https://sqa-tao.metropolis.nvidia.com:32443/api/v1/user/{user_id_user_1}/model/{model_id_user_1}\")\n",
    "print(output)\n",
    "# Returns authorization required HTML body"
   ]
  },
  {
   "cell_type": "code",
   "execution_count": null,
   "metadata": {},
   "outputs": [],
   "source": [
    "output = subprocess.getoutput(f'curl -H \"Authorization: Bearer {token_user_1}\" https://sqa-tao.metropolis.nvidia.com:32443/api/v1/user/{user_id_user_2}/model/{model_id_user_2}')\n",
    "print(output)\n",
    "# Returns Forbidden HTML body"
   ]
  },
  {
   "cell_type": "code",
   "execution_count": null,
   "metadata": {},
   "outputs": [],
   "source": [
    "output = subprocess.getoutput(f'curl -H \"Authorization: Bearer {token_user_2}\" https://sqa-tao.metropolis.nvidia.com:32443/api/v1/user/{user_id_user_1}/model/{model_id_user_1}')\n",
    "print(output)\n",
    "# Returns Forbidden HTML body"
   ]
  },
  {
   "cell_type": "code",
   "execution_count": null,
   "metadata": {},
   "outputs": [],
   "source": [
    "output = subprocess.getoutput(f'curl -H \"Authorization: Bearer {token_user_2}\" https://sqa-tao.metropolis.nvidia.com:32443/api/v1/user/{user_id_user_2}/model/{model_id_user_2}')\n",
    "print(output)\n",
    "# Returns model metadata (network_arch:mask_rcnn, type:instance segmentation)"
   ]
  },
  {
   "cell_type": "markdown",
   "metadata": {},
   "source": [
    "#### UC - 8 <a class=\"anchor\" id=\"head-4\"></a>"
   ]
  },
  {
   "cell_type": "code",
   "execution_count": null,
   "metadata": {},
   "outputs": [],
   "source": [
    "output = subprocess.getoutput(f\"curl -X POST http://sqa-tao.metropolis.nvidia.com:32080/api/v1/login -d '{\\\"ngc_api_key\\\": \\\"{ngc_api_key_user_1}\\\"}\")\n",
    "print(output)"
   ]
  },
  {
   "cell_type": "code",
   "execution_count": null,
   "metadata": {},
   "outputs": [],
   "source": [
    "output = subprocess.getoutput(f'curl -H \"Authorization: Bearer {token_user_2}\" https://sqa-tao.metropolis.nvidia.com:32443/api/v1/user/{user_id_user_2}/model/{model_id_user_2}')\n",
    "print(output)\n",
    "# should return model model metadata\n",
    "# ask admin to check app pod logs, authentication was checked against cached user session"
   ]
  },
  {
   "cell_type": "code",
   "execution_count": null,
   "metadata": {},
   "outputs": [],
   "source": [
    "# wait over 2 hours with no activity for user user_id_user_2\n",
    "output = subprocess.getoutput(f'curl -H \"Authorization: Bearer {token_user_2}\" https://sqa-tao.metropolis.nvidia.com:32443/api/v1/user/{user_id_user_2}/model/{model_id_user_2}')\n",
    "print(output)\n",
    "# should return model model_id_user_2 metadata\n",
    "# ask admin to check app pod logs, authentication was checked against cached user session, failed, then authenticated the user again against NVIDIA servers"
   ]
  },
  {
   "cell_type": "markdown",
   "metadata": {},
   "source": [
    "#### UC - 9 <a class=\"anchor\" id=\"head-4\"></a>"
   ]
  },
  {
   "cell_type": "code",
   "execution_count": null,
   "metadata": {},
   "outputs": [],
   "source": [
    "output = subprocess.getoutput(f'curl -H \"Authorization: Bearer {token_user_2}\" https://sqa-tao.metropolis.nvidia.com:32443/api/v1/user/{user_id_user_2}/model/{model_id_user_2}')\n",
    "print(output)\n",
    "# should return model model_id_user_2 metadata\n",
    "# ask admin to check app pod logs, authentication was checked against cached user session\n",
    "# repeat the above a few times within 2 hours"
   ]
  },
  {
   "cell_type": "markdown",
   "metadata": {},
   "source": [
    "### Cluster access check <a class=\"anchor\" id=\"head-4\"></a>"
   ]
  },
  {
   "cell_type": "code",
   "execution_count": null,
   "metadata": {},
   "outputs": [],
   "source": [
    "output = subprocess.getoutput('ssh sqa-tao.metropolis.nvidia.com')\n",
    "print(output)"
   ]
  }
 ],
 "metadata": {
  "kernelspec": {
   "display_name": "Python 3 (ipykernel)",
   "language": "python",
   "name": "python3"
  },
  "language_info": {
   "codemirror_mode": {
    "name": "ipython",
    "version": 3
   },
   "file_extension": ".py",
   "mimetype": "text/x-python",
   "name": "python",
   "nbconvert_exporter": "python",
   "pygments_lexer": "ipython3",
   "version": "3.8.10"
  }
 },
 "nbformat": 4,
 "nbformat_minor": 5
}
